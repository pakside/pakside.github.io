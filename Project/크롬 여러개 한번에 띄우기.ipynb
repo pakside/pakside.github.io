{
 "cells": [
  {
   "cell_type": "markdown",
   "id": "285fd38b",
   "metadata": {},
   "source": [
    "크롬 여러개 한번에 띄우기\n",
    "=====================\n",
    "\n",
    "> 배경: 다계정 작업을 하다보면 크롬을 프로필 1에서6까지 직접 눌러서 연 후, 주소를 치는 이 반복작업이   \n",
    "      어느 순간 귀찮아졌다. 한개정도의 작업은 그냥 하는데 이게 갯수가 늘어날수록 고된작업이 된다.   \n",
    "      단순 반복작업이다보니 이것을 쉽게 파일로 만들면 좋지않을까 싶었다.\n",
    "      \n",
    "> 설계: 맥 os용 실행 파일을 클릭하면, 간단한 빈칸과 버튼이 나오고 빈칸에 웹사이트를 넣은 후, 버튼을 누르면    \n",
    "      각각의 다른 크롬 프로필 6개의 전에 넣은 웹사이트가 뜬다.\n",
    "      Chat gpt를 이용하여 코드만들기.\n",
    "      \n",
    "> 사용 언어: 파이썬(Python)\n",
    "---------------------------------------"
   ]
  },
  {
   "cell_type": "markdown",
   "id": "7f8785f0",
   "metadata": {},
   "source": [
    "## 1.Chat gpt를 이용하여 코드완성.\n",
    "\n",
    "우선 Chat gpt를 이용하여 코드를 완성해서 작동시켜보고, 모르는 코드를 공부하는식으로 갈것이다."
   ]
  },
  {
   "cell_type": "code",
   "execution_count": 2,
   "id": "1318ebc1",
   "metadata": {},
   "outputs": [],
   "source": [
    "\n",
    "import subprocess\n",
    "import tkinter as tk\n",
    "import os\n",
    "\n",
    "# 전체 프로필이름 설정\n",
    "profiles = [\"Default\", \"Profile 1\", \"Profile 2\", \"Profile 3\", \"Profile 9\", \"Profile 10\"]\n",
    "\n",
    "# subprocess를 이용하여 명령어 전달하는 메서드 작성\n",
    "def open_chrome_windows():\n",
    "    url = url_entry.get()       # tk.Entry 에서 입력한 값 반환\n",
    "    for profile in profiles:\n",
    "        subprocess.Popen([\"/Applications/Google Chrome.app/Contents/MacOS/Google Chrome\", \"--new-window\", \"--profile-directory=\" + profile, url])\n",
    "\n",
    "# os.system() 함수를 이용하여 터미널 끄는 메서드 작성\n",
    "def close_terminal():\n",
    "    app_name = \"Terminal\"\n",
    "    os.system(f\"pkill {app_name}\")\n",
    "\n",
    "# 터미널과 window 둘다 끄기\n",
    "def on_close():\n",
    "    close_terminal()\n",
    "    window.destroy()\n",
    "\n",
    "# tkinter로 window 생성, title 변경\n",
    "window = tk.Tk()\n",
    "window.title(\"다계정\")\n",
    "\n",
    "# Link label,입력창 생성 후 배치\n",
    "url_label = tk.Label(window, text=\"링크:\")\n",
    "url_label.pack()\n",
    "url_entry = tk.Entry(window)\n",
    "url_entry.pack()\n",
    "\n",
    "# 크롬을 여는 버튼 생성 후 배치\n",
    "button = tk.Button(window, text=\"열기\", command=open_chrome_windows)\n",
    "button.pack()\n",
    "\n",
    "# window 사이즈 세팅\n",
    "window_width = 200\n",
    "window_height = 100\n",
    "screen_width = window.winfo_screenwidth()    # winfo_screenwidth(), winfo_screenheight() : 모니터의 크기 픽셀로 반환\n",
    "screen_height = window.winfo_screenheight()\n",
    "\n",
    "# 모니터 정중앙에 window 배치를 위한  x축,y축 계산\n",
    "x = (screen_width // 2) - (window_width // 2)\n",
    "y = (screen_height // 2) - (window_height // 2)\n",
    "\n",
    "# window 사이즈와 첫 팝업위치 적용 ( '{가로축 사이즈}x{세로축 사이즈}+{첫 x축 위치}+{첫 y축 위치}' )\n",
    "window.geometry('{}x{}+{}+{}'.format(window_width, window_height, x, y))\n",
    "\n",
    "\n",
    "# protocol()의 \"WM_DELETE_WINDOW\"을 이용하여 window의 x를 눌러 껐을때 on_close() 작동\n",
    "window.protocol(\"WM_DELETE_WINDOW\", on_close)\n",
    "\n",
    "# 생성한 window가 닫히지 않도록 유지\n",
    "window.mainloop()\n"
   ]
  },
  {
   "cell_type": "markdown",
   "id": "50851934",
   "metadata": {},
   "source": [
    "## 2. 세부적인 코드 공부\n",
    "\n",
    "잘 작동하는걸 확인했으니 이제 하나씩 세부적으로 분해해보며 공부해본다."
   ]
  },
  {
   "cell_type": "code",
   "execution_count": null,
   "id": "9810ba11",
   "metadata": {},
   "outputs": [],
   "source": []
  }
 ],
 "metadata": {
  "kernelspec": {
   "display_name": "Python 3 (ipykernel)",
   "language": "python",
   "name": "python3"
  },
  "language_info": {
   "codemirror_mode": {
    "name": "ipython",
    "version": 3
   },
   "file_extension": ".py",
   "mimetype": "text/x-python",
   "name": "python",
   "nbconvert_exporter": "python",
   "pygments_lexer": "ipython3",
   "version": "3.9.13"
  }
 },
 "nbformat": 4,
 "nbformat_minor": 5
}
